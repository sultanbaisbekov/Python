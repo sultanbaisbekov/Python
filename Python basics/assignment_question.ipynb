{
 "cells": [
  {
   "cell_type": "markdown",
   "metadata": {},
   "source": [
    "# Lesson 1.2: Python Basics\n",
    "## Topics Covered:\n",
    "- Syntax and Semantics\n",
    "- Variables and Data Types\n",
    "- Basic Operators (Arithmetic, Comparison, Logical)\n"
   ]
  },
  {
   "cell_type": "markdown",
   "metadata": {},
   "source": [
    "## 1. Syntax and Semantics\n",
    "\n",
    "**Question 1:** Write a Python program to print \"Hello, World!\"."
   ]
  },
  {
   "cell_type": "code",
   "execution_count": null,
   "metadata": {},
   "outputs": [],
   "source": [
    "# Your code here\n",
    "\n",
    "print(\"Hello, World!\")"
   ]
  },
  {
   "cell_type": "markdown",
   "metadata": {},
   "source": [
    "**Question 2:** Write a Python program that takes a user input and prints it."
   ]
  },
  {
   "cell_type": "code",
   "execution_count": null,
   "metadata": {},
   "outputs": [],
   "source": [
    "# Your code here\n",
    "\n",
    "myinput=input(\"Enter smth: \")\n",
    "int5=\"sutl\"\n",
    "\n",
    "print(f\"You entered {myinput}\")"
   ]
  },
  {
   "cell_type": "markdown",
   "metadata": {},
   "source": [
    "**Question 3:** Write a Python program to check if a number is positive, negative, or zero."
   ]
  },
  {
   "cell_type": "code",
   "execution_count": null,
   "metadata": {},
   "outputs": [],
   "source": [
    "# Your code here\n",
    "\n",
    "mynum=float(input(\"Enter your integer: \"))\n",
    "\n",
    "if mynum==0:\n",
    "    print(\"Your number is zero\")\n",
    "if mynum>0:\n",
    "    print(\"Your number is positive\")\n",
    "if mynum<0:\n",
    "    print(\"YOur number is negative\")\n",
    "\n"
   ]
  },
  {
   "cell_type": "markdown",
   "metadata": {},
   "source": [
    "**Question 4:** Write a Python program to find the largest of three numbers."
   ]
  },
  {
   "cell_type": "code",
   "execution_count": null,
   "metadata": {},
   "outputs": [],
   "source": [
    "# Your code here\n",
    "\n",
    "n1=int(input(\"First nubmer: \"))\n",
    "n2=int(input(\"Enter number2: \"))\n",
    "n3=int(input(\"Enter number3: \"))\n",
    "\n",
    "if (n1 >= n2) and (n1>=n3):\n",
    "    largest = n1\n",
    "elif (n2>=n1) and (n2>=n3): \n",
    "    largest = n2\n",
    "elif (n3>=n1) and (n3>=n1):\n",
    "    largest = n3 \n",
    "\n",
    "print(f\"The largest number is:{largest}\")\n",
    "\n",
    "\n",
    "\n",
    "\n",
    "\n",
    "       "
   ]
  },
  {
   "cell_type": "markdown",
   "metadata": {},
   "source": [
    "**Question 5:** Write a Python program to calculate the factorial of a number."
   ]
  },
  {
   "cell_type": "code",
   "execution_count": null,
   "metadata": {},
   "outputs": [],
   "source": [
    "# Your code here\n",
    "num9=int(input(\"factorial\"))\n",
    "\n",
    "num9 = (num9)"
   ]
  },
  {
   "cell_type": "markdown",
   "metadata": {},
   "source": [
    "## 2. Variables and Data Types\n",
    "\n",
    "**Question 6:** Create variables of different data types: integer, float, string, and boolean. Print their values and types."
   ]
  },
  {
   "cell_type": "code",
   "execution_count": null,
   "metadata": {},
   "outputs": [],
   "source": [
    "# Your code here\n",
    "\n",
    "def factorial(n):\n",
    "    if n==0:\n",
    "        return \"The answer is zero\"\n",
    "    else:\n",
    "       return n * factorial(n-1)\n",
    "\n",
    "num=int(input(\"Paste your integer: \"))\n",
    "\n",
    "print(f\"Factorial of {num} is {factorial(num)}\")\n"
   ]
  },
  {
   "cell_type": "markdown",
   "metadata": {},
   "source": [
    "**Question 7:** Write a Python program to swap the values of two variables."
   ]
  },
  {
   "cell_type": "code",
   "execution_count": null,
   "metadata": {},
   "outputs": [],
   "source": [
    "# Your code here\n",
    "\n",
    "a = 10\n",
    "b = 20\n",
    "\n",
    "a, b = b, a\n",
    "\n",
    "print(f\"Integers before swap {a} and {b}\")\n",
    "\n",
    "print(f\"Integers after swap {a} and {b}\")"
   ]
  },
  {
   "cell_type": "markdown",
   "metadata": {},
   "source": [
    "**Question 8:** Write a Python program to convert Celsius to Fahrenheit."
   ]
  },
  {
   "cell_type": "code",
   "execution_count": null,
   "metadata": {},
   "outputs": [],
   "source": [
    "# Your code here\n",
    "\n",
    "celius=float(input(\"Enter Celsius: \"))\n",
    "fahrenheit = celius * 9 / 5 +32\n",
    "\n",
    "print(f\"From this {celius} celsius we got this {fahrenheit} fahrenheit\")"
   ]
  },
  {
   "cell_type": "markdown",
   "metadata": {},
   "source": [
    "**Question 9:** Write a Python program to concatenate two strings."
   ]
  },
  {
   "cell_type": "code",
   "execution_count": null,
   "metadata": {},
   "outputs": [],
   "source": [
    "# Your code here\n",
    "\n",
    "str1=(input(\"Enter first word: \"))\n",
    "str2=(input(\"Enter second word: \"))\n",
    "\n",
    "result = str1 + str2\n",
    "\n",
    "print(f\"Concetanated twos strings {result}\")\n",
    "\n"
   ]
  },
  {
   "cell_type": "markdown",
   "metadata": {},
   "source": [
    "**Question 10:** Write a Python program to check if a variable is of a specific data type."
   ]
  },
  {
   "cell_type": "code",
   "execution_count": null,
   "metadata": {},
   "outputs": [],
   "source": [
    "# Your code here\n",
    "\n",
    "variable=\"Sutlan\"\n",
    "\n",
    "if isinstance(variable, float):\n",
    "    print(f\"The variable {variable}is a float \")\n",
    "else:\n",
    "    print(f\"The variable {variable} is not a float\")\n",
    "\n"
   ]
  },
  {
   "cell_type": "markdown",
   "metadata": {},
   "source": [
    "## 3. Basic Operators (Arithmetic, Comparison, Logical)\n",
    "\n",
    "**Question 11:** Write a Python program to perform arithmetic operations: addition, subtraction, multiplication, and division."
   ]
  },
  {
   "cell_type": "code",
   "execution_count": null,
   "metadata": {},
   "outputs": [],
   "source": [
    "# Your code here\n",
    "a=56\n",
    "b=7\n",
    "\n",
    "print(f\"Sum of {a} and {b} is {a+b}\")\n",
    "print(f\"Difference of {a} and {b} is {a-b}\")\n",
    "print(f\"Multiplication of {a} and {b} is {a*b}\")\n",
    "print(f\"Division of {a} and {b} is {a/b}\")\n",
    "\n"
   ]
  },
  {
   "cell_type": "markdown",
   "metadata": {},
   "source": [
    "**Question 12:** Write a Python program to demonstrate comparison operators: equal to, not equal to, greater than, less than."
   ]
  },
  {
   "cell_type": "code",
   "execution_count": null,
   "metadata": {},
   "outputs": [],
   "source": [
    "# Your code here\n",
    "q=6\n",
    "w=3\n",
    "\n",
    "print(f\"{q} == {b}, {a==b}\")\n",
    "print(f\"{q} > {b}, {a>b}\")\n",
    "print(f\"{q} < {b}, {a<b}\")\n",
    "print(f\"{q} != {b}, {a!=b}\")"
   ]
  },
  {
   "cell_type": "markdown",
   "metadata": {},
   "source": [
    "**Question 13:** Write a Python program to demonstrate logical operators: and, or, not."
   ]
  },
  {
   "cell_type": "code",
   "execution_count": null,
   "metadata": {},
   "outputs": [],
   "source": [
    "# Your code here\n",
    "\n",
    "a=True\n",
    "b=False\n",
    "\n",
    "print(f\"True and False {a and b}\")\n",
    "print(f\"True or False {a or b}\")\n",
    "print(f\" not True  { not a}\")\n",
    "print(f\" not False  { not b}\")"
   ]
  },
  {
   "cell_type": "markdown",
   "metadata": {},
   "source": [
    "**Question 14:** Write a Python program to calculate the square of a number."
   ]
  },
  {
   "cell_type": "code",
   "execution_count": null,
   "metadata": {},
   "outputs": [],
   "source": [
    "# Your code here\n",
    "num=float(input(\"Enter your numebr: \"))\n",
    "\n",
    "square = num ** 2\n",
    "\n",
    "print(f\"Your number in square: {square}\")"
   ]
  },
  {
   "cell_type": "markdown",
   "metadata": {},
   "source": [
    "**Question 15:** Write a Python program to check if a number is even or odd."
   ]
  },
  {
   "cell_type": "code",
   "execution_count": null,
   "metadata": {},
   "outputs": [],
   "source": [
    "# Your code here\n",
    "\n",
    "mynum=int(input(\"Enter your num: \"))\n",
    "\n",
    "if mynum % 2 == 0:\n",
    "    print(f\"Your num is even.\")\n",
    "\n",
    "else:\n",
    "    print(\"Your number is odd.\")"
   ]
  },
  {
   "cell_type": "markdown",
   "metadata": {},
   "source": [
    "**Question 16:** Write a Python program to find the sum of the first n natural numbers."
   ]
  },
  {
   "cell_type": "code",
   "execution_count": null,
   "metadata": {},
   "outputs": [],
   "source": [
    "# Your code here\n",
    "\n",
    "nums=int(input(\"Enter your number\"))\n",
    "\n",
    "sum_num = (nums * (nums + 1)) // 2\n",
    "print(f\"The sum of first natural numbers of {nums} is {sum_num}\")"
   ]
  },
  {
   "cell_type": "markdown",
   "metadata": {},
   "source": [
    "**Question 17:** Write a Python program to check if a year is a leap year."
   ]
  },
  {
   "cell_type": "code",
   "execution_count": null,
   "metadata": {},
   "outputs": [],
   "source": [
    "# Your code here\n",
    "\n",
    "year = int(input(\"Enter a year to check if it is leap or not\"))\n",
    "\n",
    "if (year % 4 == 0 & year % 100 != 0) or (year % 400 == 0):\n",
    "    print(f\"Entered year {year} is a leap year\")\n",
    "else:\n",
    "    print(f\"Entered year {year} is not a leap year\")"
   ]
  },
  {
   "cell_type": "markdown",
   "metadata": {},
   "source": [
    "**Question 18:** Write a Python program to reverse a string."
   ]
  },
  {
   "cell_type": "code",
   "execution_count": null,
   "metadata": {},
   "outputs": [],
   "source": [
    "# Your code here\n",
    "\n",
    "def reverse_string(string):\n",
    "    return string[::-1]\n",
    "\n",
    "str=input(\"Enter your word: \")\n",
    "\n",
    "print(f\"Your reversed word:{reverse_string(str)}\")\n"
   ]
  },
  {
   "cell_type": "markdown",
   "metadata": {},
   "source": [
    "**Question 19:** Write a Python program to check if a string is a palindrome."
   ]
  },
  {
   "cell_type": "code",
   "execution_count": null,
   "metadata": {},
   "outputs": [],
   "source": [
    "# Your code here\n",
    "\n",
    "def palindrome(nu):\n",
    "    if nu== nu[::-1]:\n",
    "        return \"Your number is a palindrome\"\n",
    "    else:\n",
    "        return \"Your number is not a palindrome\"\n",
    "\n",
    "nu = input(\"Enter your number to check if it is palindrome: \")\n",
    "print(palindrome(nu))\n",
    "\n",
    "\n"
   ]
  },
  {
   "cell_type": "markdown",
   "metadata": {},
   "source": [
    "**Question 20:** Write a Python program to sort a list of numbers in ascending order."
   ]
  },
  {
   "cell_type": "code",
   "execution_count": 1,
   "metadata": {},
   "outputs": [
    {
     "name": "stdout",
     "output_type": "stream",
     "text": [
      "Sorted numbers in ascending order:  [6]\n"
     ]
    }
   ],
   "source": [
    "nums=[int(number) for number in input(\"Enter your numbers: \").split()]\n",
    "nums.sort()\n",
    "print(\"Sorted numbers in ascending order: \", nums)"
   ]
  },
  {
   "cell_type": "code",
   "execution_count": 2,
   "metadata": {},
   "outputs": [
    {
     "data": {
      "text/plain": [
       "(40, 41, 42)"
      ]
     },
     "execution_count": 2,
     "metadata": {},
     "output_type": "execute_result"
    }
   ],
   "source": [
    "x=(40,41,42)\n",
    "x"
   ]
  },
  {
   "cell_type": "code",
   "execution_count": null,
   "metadata": {},
   "outputs": [],
   "source": []
  }
 ],
 "metadata": {
  "kernelspec": {
   "display_name": "Python 3",
   "language": "python",
   "name": "python3"
  },
  "language_info": {
   "codemirror_mode": {
    "name": "ipython",
    "version": 3
   },
   "file_extension": ".py",
   "mimetype": "text/x-python",
   "name": "python",
   "nbconvert_exporter": "python",
   "pygments_lexer": "ipython3",
   "version": "3.8.10"
  }
 },
 "nbformat": 4,
 "nbformat_minor": 4
}
